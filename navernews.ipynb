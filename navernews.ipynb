{
 "cells": [
  {
   "cell_type": "code",
   "execution_count": 4,
   "metadata": {},
   "outputs": [
    {
     "name": "stdout",
     "output_type": "stream",
     "text": [
      "Requirement already satisfied: requests in c:\\users\\user\\appdata\\local\\programs\\python\\python313\\lib\\site-packages (2.32.3)\n",
      "Requirement already satisfied: charset-normalizer<4,>=2 in c:\\users\\user\\appdata\\local\\programs\\python\\python313\\lib\\site-packages (from requests) (3.4.1)\n",
      "Requirement already satisfied: idna<4,>=2.5 in c:\\users\\user\\appdata\\local\\programs\\python\\python313\\lib\\site-packages (from requests) (3.10)\n",
      "Requirement already satisfied: urllib3<3,>=1.21.1 in c:\\users\\user\\appdata\\local\\programs\\python\\python313\\lib\\site-packages (from requests) (2.3.0)\n",
      "Requirement already satisfied: certifi>=2017.4.17 in c:\\users\\user\\appdata\\local\\programs\\python\\python313\\lib\\site-packages (from requests) (2025.1.31)\n",
      "Note: you may need to restart the kernel to use updated packages.\n"
     ]
    },
    {
     "name": "stderr",
     "output_type": "stream",
     "text": [
      "\n",
      "[notice] A new release of pip is available: 24.3.1 -> 25.0\n",
      "[notice] To update, run: python.exe -m pip install --upgrade pip\n"
     ]
    }
   ],
   "source": [
    "%pip install requests"
   ]
  },
  {
   "cell_type": "code",
   "execution_count": 8,
   "metadata": {},
   "outputs": [
    {
     "name": "stdout",
     "output_type": "stream",
     "text": [
      "Collecting bs4Note: you may need to restart the kernel to use updated packages.\n",
      "\n",
      "  Downloading bs4-0.0.2-py2.py3-none-any.whl.metadata (411 bytes)\n",
      "Collecting beautifulsoup4 (from bs4)\n",
      "  Downloading beautifulsoup4-4.13.3-py3-none-any.whl.metadata (3.8 kB)\n",
      "Collecting soupsieve>1.2 (from beautifulsoup4->bs4)\n",
      "  Downloading soupsieve-2.6-py3-none-any.whl.metadata (4.6 kB)\n",
      "Requirement already satisfied: typing-extensions>=4.0.0 in c:\\users\\user\\appdata\\local\\programs\\python\\python313\\lib\\site-packages (from beautifulsoup4->bs4) (4.12.2)\n",
      "Downloading bs4-0.0.2-py2.py3-none-any.whl (1.2 kB)\n",
      "Downloading beautifulsoup4-4.13.3-py3-none-any.whl (186 kB)\n",
      "Downloading soupsieve-2.6-py3-none-any.whl (36 kB)\n",
      "Installing collected packages: soupsieve, beautifulsoup4, bs4\n",
      "Successfully installed beautifulsoup4-4.13.3 bs4-0.0.2 soupsieve-2.6\n"
     ]
    },
    {
     "name": "stderr",
     "output_type": "stream",
     "text": [
      "\n",
      "[notice] A new release of pip is available: 24.3.1 -> 25.0\n",
      "[notice] To update, run: python.exe -m pip install --upgrade pip\n"
     ]
    }
   ],
   "source": [
    "%pip install bs4"
   ]
  },
  {
   "cell_type": "code",
   "execution_count": 41,
   "metadata": {},
   "outputs": [],
   "source": [
    "import pandas as pd\n",
    "import requests\n",
    "from bs4 import BeautifulSoup\n",
    "\n",
    "url='https://news.naver.com/breakingnews/section/101/259'\n",
    "res = requests.get(url).text\n",
    "soup = BeautifulSoup(res)       # 파싱\n",
    "\n",
    "temp = soup.select_one('ul.sa_list').select('li',limit=5)"
   ]
  },
  {
   "cell_type": "code",
   "execution_count": 43,
   "metadata": {},
   "outputs": [
    {
     "data": {
      "text/plain": [
       "[{'title': '산업은행, 50억 규모 ‘KDB 넥스트원’ 펀드 결성',\n",
       "  'date': '\\n1분전\\n',\n",
       "  'news_url': 'https://n.news.naver.com/mnews/article/016/0002424069'},\n",
       " {'title': '신한은행, 법인 전용 대출비교 플랫폼 ‘론앤비즈’ 출시',\n",
       "  'date': '\\n2분전\\n',\n",
       "  'news_url': 'https://n.news.naver.com/mnews/article/016/0002424065'},\n",
       " {'title': '주택연금 신규 신청자 월 지급금 소폭 상향 조정',\n",
       "  'date': '\\n2분전\\n',\n",
       "  'news_url': 'https://n.news.naver.com/mnews/article/001/0015192557'},\n",
       " {'title': '3월부터 주택연금 소폭 증가…평균 0.42% 인상',\n",
       "  'date': '\\n3분전\\n',\n",
       "  'news_url': 'https://n.news.naver.com/mnews/article/277/0005541704'},\n",
       " {'title': \"교보생명, 전속설계사 1만5000명 돌파…2018년 이후 '최대'\",\n",
       "  'date': '\\n3분전\\n',\n",
       "  'news_url': 'https://n.news.naver.com/mnews/article/421/0008055821'}]"
      ]
     },
     "execution_count": 43,
     "metadata": {},
     "output_type": "execute_result"
    }
   ],
   "source": [
    "new_list=[]\n",
    "for li in temp:\n",
    "    new_info = {'title':li.select_one('strong.sa_text_strong').text,\n",
    "                'date':li.select_one('div.sa_text_datetime.is_recent').text,\n",
    "                'news_url':li.select_one('a')['href']}\n",
    "    # print(new_info)\n",
    "    new_list.append(new_info)\n",
    "\n",
    "new_list"
   ]
  },
  {
   "cell_type": "code",
   "execution_count": 29,
   "metadata": {},
   "outputs": [
    {
     "name": "stdout",
     "output_type": "stream",
     "text": [
      "다음 달부터 주택연금 신규 가입하면 월지급금 더 받는다\n",
      "\n",
      "2분전\n",
      "\n",
      "https://n.news.naver.com/mnews/article/018/0005936672\n"
     ]
    }
   ],
   "source": [
    "print(temp[1].select_one('strong.sa_text_strong').text)                #기사제목\n",
    "print(temp[1].select_one('div.sa_text_datetime.is_recent').text)       #시간     #공백은 (.) 이용하여 제거\n",
    "print(temp[1].select_one('a')['href'])                                 #링크"
   ]
  },
  {
   "cell_type": "code",
   "execution_count": 59,
   "metadata": {},
   "outputs": [
    {
     "data": {
      "text/html": [
       "<div>\n",
       "<style scoped>\n",
       "    .dataframe tbody tr th:only-of-type {\n",
       "        vertical-align: middle;\n",
       "    }\n",
       "\n",
       "    .dataframe tbody tr th {\n",
       "        vertical-align: top;\n",
       "    }\n",
       "\n",
       "    .dataframe thead th {\n",
       "        text-align: right;\n",
       "    }\n",
       "</style>\n",
       "<table border=\"1\" class=\"dataframe\">\n",
       "  <thead>\n",
       "    <tr style=\"text-align: right;\">\n",
       "      <th></th>\n",
       "      <th>title</th>\n",
       "      <th>date</th>\n",
       "      <th>news_url</th>\n",
       "      <th>news_content</th>\n",
       "    </tr>\n",
       "  </thead>\n",
       "  <tbody>\n",
       "    <tr>\n",
       "      <th>0</th>\n",
       "      <td>산업은행, 50억 규모 ‘KDB 넥스트원’ 펀드 결성</td>\n",
       "      <td>\\n1분전\\n</td>\n",
       "      <td>https://n.news.naver.com/mnews/article/016/000...</td>\n",
       "      <td>‘KDB NextONE’ 10기 오리엔테이션 실시전화성(왼쪽부터) 씨엔티테크 대표,...</td>\n",
       "    </tr>\n",
       "    <tr>\n",
       "      <th>1</th>\n",
       "      <td>신한은행, 법인 전용 대출비교 플랫폼 ‘론앤비즈’ 출시</td>\n",
       "      <td>\\n2분전\\n</td>\n",
       "      <td>https://n.news.naver.com/mnews/article/016/000...</td>\n",
       "      <td>자금용도 따라 대출상품 비교 가능[신한은행 제공][헤럴드경제=김벼리 기자] 신한은행...</td>\n",
       "    </tr>\n",
       "    <tr>\n",
       "      <th>2</th>\n",
       "      <td>주택연금 신규 신청자 월 지급금 소폭 상향 조정</td>\n",
       "      <td>\\n2분전\\n</td>\n",
       "      <td>https://n.news.naver.com/mnews/article/001/001...</td>\n",
       "      <td>[연합뉴스 자료사진]    (서울=연합뉴스) 한지훈 기자 = 한국주택금융공사는 다음...</td>\n",
       "    </tr>\n",
       "    <tr>\n",
       "      <th>3</th>\n",
       "      <td>3월부터 주택연금 소폭 증가…평균 0.42% 인상</td>\n",
       "      <td>\\n3분전\\n</td>\n",
       "      <td>https://n.news.naver.com/mnews/article/277/000...</td>\n",
       "      <td>주택금융공사, 월지급금 조정월 최대 3만원↑…3월 신규 신청자부터 적용주택연금 월 ...</td>\n",
       "    </tr>\n",
       "    <tr>\n",
       "      <th>4</th>\n",
       "      <td>교보생명, 전속설계사 1만5000명 돌파…2018년 이후 '최대'</td>\n",
       "      <td>\\n3분전\\n</td>\n",
       "      <td>https://n.news.naver.com/mnews/article/421/000...</td>\n",
       "      <td>\"보험설계사 단순히 상품 '파는 사람' 아니라 '가족 살리는 일'하는 사람\"광화문 ...</td>\n",
       "    </tr>\n",
       "  </tbody>\n",
       "</table>\n",
       "</div>"
      ],
      "text/plain": [
       "                                  title     date  \\\n",
       "0         산업은행, 50억 규모 ‘KDB 넥스트원’ 펀드 결성  \\n1분전\\n   \n",
       "1        신한은행, 법인 전용 대출비교 플랫폼 ‘론앤비즈’ 출시  \\n2분전\\n   \n",
       "2            주택연금 신규 신청자 월 지급금 소폭 상향 조정  \\n2분전\\n   \n",
       "3           3월부터 주택연금 소폭 증가…평균 0.42% 인상  \\n3분전\\n   \n",
       "4  교보생명, 전속설계사 1만5000명 돌파…2018년 이후 '최대'  \\n3분전\\n   \n",
       "\n",
       "                                            news_url  \\\n",
       "0  https://n.news.naver.com/mnews/article/016/000...   \n",
       "1  https://n.news.naver.com/mnews/article/016/000...   \n",
       "2  https://n.news.naver.com/mnews/article/001/001...   \n",
       "3  https://n.news.naver.com/mnews/article/277/000...   \n",
       "4  https://n.news.naver.com/mnews/article/421/000...   \n",
       "\n",
       "                                        news_content  \n",
       "0  ‘KDB NextONE’ 10기 오리엔테이션 실시전화성(왼쪽부터) 씨엔티테크 대표,...  \n",
       "1  자금용도 따라 대출상품 비교 가능[신한은행 제공][헤럴드경제=김벼리 기자] 신한은행...  \n",
       "2  [연합뉴스 자료사진]    (서울=연합뉴스) 한지훈 기자 = 한국주택금융공사는 다음...  \n",
       "3  주택금융공사, 월지급금 조정월 최대 3만원↑…3월 신규 신청자부터 적용주택연금 월 ...  \n",
       "4  \"보험설계사 단순히 상품 '파는 사람' 아니라 '가족 살리는 일'하는 사람\"광화문 ...  "
      ]
     },
     "execution_count": 59,
     "metadata": {},
     "output_type": "execute_result"
    }
   ],
   "source": [
    "# 뉴스 본문 가져오기\n",
    "for new in new_list:\n",
    "    new_url = new['news_url']\n",
    "    #print(new_url)\n",
    "    res = requests.get(new_url).text\n",
    "    soup = BeautifulSoup(res)       # 파싱\n",
    "    #print(soup)\n",
    "\n",
    "    body = soup.select_one('article.go_trans._article_content')\n",
    "    new_content = body.text.replace('\\n','').strip()\n",
    "    #print(new_content)\n",
    "    new['news_content'] = new_content\n",
    "\n",
    "df = pd.DataFrame(new_list)\n",
    "\n",
    "df\n"
   ]
  },
  {
   "cell_type": "code",
   "execution_count": null,
   "metadata": {},
   "outputs": [],
   "source": []
  }
 ],
 "metadata": {
  "kernelspec": {
   "display_name": "Python 3",
   "language": "python",
   "name": "python3"
  },
  "language_info": {
   "codemirror_mode": {
    "name": "ipython",
    "version": 3
   },
   "file_extension": ".py",
   "mimetype": "text/x-python",
   "name": "python",
   "nbconvert_exporter": "python",
   "pygments_lexer": "ipython3",
   "version": "3.13.1"
  }
 },
 "nbformat": 4,
 "nbformat_minor": 2
}
