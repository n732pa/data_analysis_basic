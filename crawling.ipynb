{
 "cells": [
  {
   "cell_type": "code",
   "execution_count": 1,
   "metadata": {},
   "outputs": [
    {
     "name": "stdout",
     "output_type": "stream",
     "text": [
      "Collecting beautifulsoup4\n",
      "  Using cached beautifulsoup4-4.12.3-py3-none-any.whl.metadata (3.8 kB)\n",
      "Collecting soupsieve>1.2 (from beautifulsoup4)\n",
      "  Using cached soupsieve-2.6-py3-none-any.whl.metadata (4.6 kB)\n",
      "Using cached beautifulsoup4-4.12.3-py3-none-any.whl (147 kB)\n",
      "Using cached soupsieve-2.6-py3-none-any.whl (36 kB)\n",
      "Installing collected packages: soupsieve, beautifulsoup4\n",
      "Successfully installed beautifulsoup4-4.12.3 soupsieve-2.6\n",
      "Note: you may need to restart the kernel to use updated packages.\n"
     ]
    },
    {
     "name": "stderr",
     "output_type": "stream",
     "text": [
      "\n",
      "[notice] A new release of pip is available: 24.3.1 -> 25.0\n",
      "[notice] To update, run: python.exe -m pip install --upgrade pip\n"
     ]
    }
   ],
   "source": [
    "%pip install beautifulsoup4"
   ]
  },
  {
   "cell_type": "code",
   "execution_count": 7,
   "metadata": {},
   "outputs": [
    {
     "name": "stdout",
     "output_type": "stream",
     "text": [
      "<html>\n",
      "<head>\n",
      "</head>\n",
      "<body>\n",
      "<h1> 시장가서 사야할 과일 목록</h1>\n",
      "<div>\n",
      "<p class=\"'name1\" id=\"fruits1\" title=\"바나나\">바나나\n",
      "            <span class=\"price\">3000원</span>\n",
      "<span class=\"count\">10개</span>\n",
      "<span class=\"store\">    바나나가게</span>\n",
      "<a href=\"https://www.banana.com\">banana.com</a>\n",
      "</p>\n",
      "</div>\n",
      "<div>\n",
      "<p class=\"'name2\" id=\"fruits2\" title=\"사과\">사과\n",
      "            <span class=\"price\">100원</span>\n",
      "<span class=\"count\">50개</span>\n",
      "<span class=\"store\">    사과가게</span>\n",
      "<a href=\"https://www.banana.com\">apple.com</a>\n",
      "</p>\n",
      "</div>\n",
      "</body>\n",
      "</html>\n"
     ]
    }
   ],
   "source": [
    "from bs4 import BeautifulSoup\n",
    "\n",
    "webpage = open('sample02.html','r',encoding='utf-8')\n",
    "bsObject = BeautifulSoup(webpage,'html.parser')\n",
    "\n",
    "print(bsObject)\n"
   ]
  },
  {
   "cell_type": "code",
   "execution_count": 9,
   "metadata": {},
   "outputs": [
    {
     "data": {
      "text/plain": [
       "<p class=\"'name1\" id=\"fruits1\" title=\"바나나\">바나나\n",
       "            <span class=\"price\">3000원</span>\n",
       "<span class=\"count\">10개</span>\n",
       "<span class=\"store\">    바나나가게</span>\n",
       "<a href=\"https://www.banana.com\">banana.com</a>\n",
       "</p>"
      ]
     },
     "execution_count": 9,
     "metadata": {},
     "output_type": "execute_result"
    }
   ],
   "source": [
    "tag_div = bsObject.find('div')\n",
    "tag_p = bsObject.find('p')\n",
    "tag_p"
   ]
  },
  {
   "cell_type": "code",
   "execution_count": 11,
   "metadata": {},
   "outputs": [
    {
     "data": {
      "text/plain": [
       "<p class=\"'name2\" id=\"fruits2\" title=\"사과\">사과\n",
       "            <span class=\"price\">100원</span>\n",
       "<span class=\"count\">50개</span>\n",
       "<span class=\"store\">    사과가게</span>\n",
       "<a href=\"https://www.banana.com\">apple.com</a>\n",
       "</p>"
      ]
     },
     "execution_count": 11,
     "metadata": {},
     "output_type": "execute_result"
    }
   ],
   "source": [
    "tag_p_all = bsObject.find_all('p')\n",
    "tag_p_all[1]"
   ]
  },
  {
   "cell_type": "code",
   "execution_count": 18,
   "metadata": {},
   "outputs": [
    {
     "data": {
      "text/plain": [
       "[<p class=\"'name1\" id=\"fruits1\" title=\"바나나\">바나나\n",
       "             <span class=\"price\">3000원</span>\n",
       " <span class=\"count\">10개</span>\n",
       " <span class=\"store\">    바나나가게</span>\n",
       " <a href=\"https://www.banana.com\">banana.com</a>\n",
       " </p>,\n",
       " <p class=\"'name2\" id=\"fruits2\" title=\"사과\">사과\n",
       "             <span class=\"price\">100원</span>\n",
       " <span class=\"count\">50개</span>\n",
       " <span class=\"store\">    사과가게</span>\n",
       " <a href=\"https://www.banana.com\">apple.com</a>\n",
       " </p>]"
      ]
     },
     "execution_count": 18,
     "metadata": {},
     "output_type": "execute_result"
    }
   ],
   "source": [
    "p_data = bsObject.select('p')\n",
    "p_data"
   ]
  },
  {
   "cell_type": "code",
   "execution_count": 19,
   "metadata": {},
   "outputs": [
    {
     "name": "stdout",
     "output_type": "stream",
     "text": [
      "None\n"
     ]
    }
   ],
   "source": [
    "print(p_data[1].string)"
   ]
  },
  {
   "cell_type": "code",
   "execution_count": 17,
   "metadata": {},
   "outputs": [
    {
     "name": "stdout",
     "output_type": "stream",
     "text": [
      "사과\n",
      "            100원\n",
      "50개\n",
      "    사과가게\n",
      "apple.com\n",
      "\n"
     ]
    }
   ],
   "source": [
    "print(p_data[1].text)"
   ]
  },
  {
   "cell_type": "code",
   "execution_count": 28,
   "metadata": {},
   "outputs": [
    {
     "name": "stdout",
     "output_type": "stream",
     "text": [
      "바나나\n",
      "3000원\n",
      "\n",
      "10개\n",
      "\n",
      "바나나가게\n",
      "\n",
      "banana.com\n",
      "\n",
      "사과\n",
      "100원\n",
      "\n",
      "50개\n",
      "\n",
      "사과가게\n",
      "\n",
      "apple.com\n",
      "\n"
     ]
    }
   ],
   "source": [
    "for i in p_data:\n",
    "    for j in i:\n",
    "        print(j.string.strip())"
   ]
  },
  {
   "cell_type": "code",
   "execution_count": 31,
   "metadata": {},
   "outputs": [
    {
     "name": "stdout",
     "output_type": "stream",
     "text": [
      "바나나\n",
      "3000원\n",
      "10개\n",
      "바나나가게\n",
      "banana.com\n",
      "사과\n",
      "100원\n",
      "50개\n",
      "사과가게\n",
      "apple.com\n"
     ]
    }
   ],
   "source": [
    "for i in p_data:\n",
    "    k = i.text.split()\n",
    "        #for j in i:\n",
    "        #print(j.text.strip())\n",
    "        #print(k)\n",
    "    for j in k:\n",
    "        print(j)\n"
   ]
  }
 ],
 "metadata": {
  "kernelspec": {
   "display_name": "Python 3",
   "language": "python",
   "name": "python3"
  },
  "language_info": {
   "codemirror_mode": {
    "name": "ipython",
    "version": 3
   },
   "file_extension": ".py",
   "mimetype": "text/x-python",
   "name": "python",
   "nbconvert_exporter": "python",
   "pygments_lexer": "ipython3",
   "version": "3.13.1"
  }
 },
 "nbformat": 4,
 "nbformat_minor": 2
}
