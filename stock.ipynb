{
 "cells": [
  {
   "cell_type": "code",
   "execution_count": 5,
   "metadata": {},
   "outputs": [
    {
     "name": "stdout",
     "output_type": "stream",
     "text": [
      "Requirement already satisfied: lxml in c:\\users\\jwpyu\\appdata\\local\\programs\\python\\python313\\lib\\site-packages (5.3.0)\n",
      "Note: you may need to restart the kernel to use updated packages.\n"
     ]
    },
    {
     "name": "stderr",
     "output_type": "stream",
     "text": [
      "\n",
      "[notice] A new release of pip is available: 24.3.1 -> 25.0\n",
      "[notice] To update, run: python.exe -m pip install --upgrade pip\n"
     ]
    }
   ],
   "source": [
    "%pip install lxml"
   ]
  },
  {
   "cell_type": "code",
   "execution_count": 26,
   "metadata": {},
   "outputs": [],
   "source": [
    "from bs4 import BeautifulSoup\n",
    "import requests\n",
    "\n",
    "def get_current_stock_price(code):\n",
    "    url='https://finance.naver.com/item/main.naver?code='+ code\n",
    "\n",
    "    html = requests.get(url).text\n",
    "    soup = BeautifulSoup(html)\n",
    "\n",
    "    stock_price = soup.select_one('p.no_today span.blind').text\n",
    "    return stock_price\n"
   ]
  },
  {
   "cell_type": "code",
   "execution_count": 27,
   "metadata": {},
   "outputs": [
    {
     "data": {
      "text/plain": [
       "'52,400'"
      ]
     },
     "execution_count": 27,
     "metadata": {},
     "output_type": "execute_result"
    }
   ],
   "source": [
    "stock_code = '005930'\n",
    "current_stock_price = get_current_stock_price(stock_code)\n",
    "current_stock_price"
   ]
  },
  {
   "cell_type": "code",
   "execution_count": 31,
   "metadata": {},
   "outputs": [
    {
     "name": "stdout",
     "output_type": "stream",
     "text": [
      "[현재 주식 가격(원)]\n",
      "삼성전자 : 52,400\n",
      "카카오 : 38,350\n",
      "네이버 : 216,500\n"
     ]
    }
   ],
   "source": [
    "company_stock_codes={'삼성전자':'005930','카카오':'035720','네이버':'035420'}\n",
    "\n",
    "print('[현재 주식 가격(원)]')\n",
    "for company, stock_code in company_stock_codes.items():\n",
    "    current_stock_price = get_current_stock_price(stock_code)\n",
    "    print(f'{company} : {current_stock_price}')"
   ]
  }
 ],
 "metadata": {
  "kernelspec": {
   "display_name": "Python 3",
   "language": "python",
   "name": "python3"
  },
  "language_info": {
   "codemirror_mode": {
    "name": "ipython",
    "version": 3
   },
   "file_extension": ".py",
   "mimetype": "text/x-python",
   "name": "python",
   "nbconvert_exporter": "python",
   "pygments_lexer": "ipython3",
   "version": "3.13.1"
  }
 },
 "nbformat": 4,
 "nbformat_minor": 2
}
