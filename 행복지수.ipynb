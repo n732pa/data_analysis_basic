{
 "cells": [
  {
   "cell_type": "markdown",
   "metadata": {},
   "source": [
    "* 삶의만족도, happy_life\n",
    "* 건강, happy_health\n",
    "* 안전, happy_safe\n",
    "* 환경, happy_environ\n",
    "* 경제, happy_econo\n",
    "* 교육, happy_edu\n",
    "* 관계및사회참려, happy_relation\n",
    "* 여가, happy_lesure\n",
    "* ==> happy_merge"
   ]
  },
  {
   "cell_type": "code",
   "execution_count": 1,
   "metadata": {},
   "outputs": [
    {
     "name": "stdout",
     "output_type": "stream",
     "text": [
      "Collecting openpyxl\n",
      "  Downloading openpyxl-3.1.5-py2.py3-none-any.whl.metadata (2.5 kB)\n",
      "Collecting et-xmlfile (from openpyxl)\n",
      "  Downloading et_xmlfile-2.0.0-py3-none-any.whl.metadata (2.7 kB)\n",
      "Downloading openpyxl-3.1.5-py2.py3-none-any.whl (250 kB)\n",
      "Downloading et_xmlfile-2.0.0-py3-none-any.whl (18 kB)\n",
      "Installing collected packages: et-xmlfile, openpyxl\n",
      "Successfully installed et-xmlfile-2.0.0 openpyxl-3.1.5\n",
      "Note: you may need to restart the kernel to use updated packages.\n"
     ]
    }
   ],
   "source": [
    "%pip install openpyxl"
   ]
  },
  {
   "cell_type": "code",
   "execution_count": 16,
   "metadata": {},
   "outputs": [
    {
     "data": {
      "text/html": [
       "<div>\n",
       "<style scoped>\n",
       "    .dataframe tbody tr th:only-of-type {\n",
       "        vertical-align: middle;\n",
       "    }\n",
       "\n",
       "    .dataframe tbody tr th {\n",
       "        vertical-align: top;\n",
       "    }\n",
       "\n",
       "    .dataframe thead th {\n",
       "        text-align: right;\n",
       "    }\n",
       "</style>\n",
       "<table border=\"1\" class=\"dataframe\">\n",
       "  <thead>\n",
       "    <tr style=\"text-align: right;\">\n",
       "      <th></th>\n",
       "      <th>삶의 만족도</th>\n",
       "    </tr>\n",
       "    <tr>\n",
       "      <th>시도</th>\n",
       "      <th></th>\n",
       "    </tr>\n",
       "  </thead>\n",
       "  <tbody>\n",
       "    <tr>\n",
       "      <th>강원도</th>\n",
       "      <td>0.619506</td>\n",
       "    </tr>\n",
       "    <tr>\n",
       "      <th>경기도</th>\n",
       "      <td>0.426023</td>\n",
       "    </tr>\n",
       "    <tr>\n",
       "      <th>경상남도</th>\n",
       "      <td>0.530794</td>\n",
       "    </tr>\n",
       "    <tr>\n",
       "      <th>경상북도</th>\n",
       "      <td>0.502223</td>\n",
       "    </tr>\n",
       "    <tr>\n",
       "      <th>광주광역시</th>\n",
       "      <td>0.484480</td>\n",
       "    </tr>\n",
       "  </tbody>\n",
       "</table>\n",
       "</div>"
      ],
      "text/plain": [
       "         삶의 만족도\n",
       "시도             \n",
       "강원도    0.619506\n",
       "경기도    0.426023\n",
       "경상남도   0.530794\n",
       "경상북도   0.502223\n",
       "광주광역시  0.484480"
      ]
     },
     "execution_count": 16,
     "metadata": {},
     "output_type": "execute_result"
    }
   ],
   "source": [
    "import pandas as pd\n",
    "\n",
    "happy_life = pd.read_excel('happy\\대한민국행복지도_삶의만족도.xlsx', engine='openpyxl')\n",
    "life_merge = happy_life.groupby('시도')[['삶의 만족도']].mean()\n",
    "life_merge.head()"
   ]
  },
  {
   "cell_type": "code",
   "execution_count": 21,
   "metadata": {},
   "outputs": [
    {
     "data": {
      "text/html": [
       "<div>\n",
       "<style scoped>\n",
       "    .dataframe tbody tr th:only-of-type {\n",
       "        vertical-align: middle;\n",
       "    }\n",
       "\n",
       "    .dataframe tbody tr th {\n",
       "        vertical-align: top;\n",
       "    }\n",
       "\n",
       "    .dataframe thead th {\n",
       "        text-align: right;\n",
       "    }\n",
       "</style>\n",
       "<table border=\"1\" class=\"dataframe\">\n",
       "  <thead>\n",
       "    <tr style=\"text-align: right;\">\n",
       "      <th></th>\n",
       "      <th>삶의 만족도</th>\n",
       "      <th>건강</th>\n",
       "    </tr>\n",
       "    <tr>\n",
       "      <th>시도</th>\n",
       "      <th></th>\n",
       "      <th></th>\n",
       "    </tr>\n",
       "  </thead>\n",
       "  <tbody>\n",
       "    <tr>\n",
       "      <th>강원도</th>\n",
       "      <td>0.619506</td>\n",
       "      <td>0.329506</td>\n",
       "    </tr>\n",
       "    <tr>\n",
       "      <th>경기도</th>\n",
       "      <td>0.426023</td>\n",
       "      <td>0.353952</td>\n",
       "    </tr>\n",
       "    <tr>\n",
       "      <th>경상남도</th>\n",
       "      <td>0.530794</td>\n",
       "      <td>0.312722</td>\n",
       "    </tr>\n",
       "    <tr>\n",
       "      <th>경상북도</th>\n",
       "      <td>0.502223</td>\n",
       "      <td>0.264114</td>\n",
       "    </tr>\n",
       "    <tr>\n",
       "      <th>광주광역시</th>\n",
       "      <td>0.484480</td>\n",
       "      <td>0.632300</td>\n",
       "    </tr>\n",
       "    <tr>\n",
       "      <th>대구광역시</th>\n",
       "      <td>0.363988</td>\n",
       "      <td>0.482325</td>\n",
       "    </tr>\n",
       "    <tr>\n",
       "      <th>대전광역시</th>\n",
       "      <td>0.407580</td>\n",
       "      <td>0.663580</td>\n",
       "    </tr>\n",
       "    <tr>\n",
       "      <th>부산광역시</th>\n",
       "      <td>0.362081</td>\n",
       "      <td>0.511906</td>\n",
       "    </tr>\n",
       "    <tr>\n",
       "      <th>서울특별시</th>\n",
       "      <td>0.490972</td>\n",
       "      <td>0.569532</td>\n",
       "    </tr>\n",
       "    <tr>\n",
       "      <th>세종특별자치시</th>\n",
       "      <td>0.907700</td>\n",
       "      <td>0.232000</td>\n",
       "    </tr>\n",
       "    <tr>\n",
       "      <th>울산광역시</th>\n",
       "      <td>0.471980</td>\n",
       "      <td>0.420040</td>\n",
       "    </tr>\n",
       "    <tr>\n",
       "      <th>인천광역시</th>\n",
       "      <td>0.411480</td>\n",
       "      <td>0.339620</td>\n",
       "    </tr>\n",
       "    <tr>\n",
       "      <th>전라남도</th>\n",
       "      <td>0.547709</td>\n",
       "      <td>0.424732</td>\n",
       "    </tr>\n",
       "    <tr>\n",
       "      <th>전라북도</th>\n",
       "      <td>0.608193</td>\n",
       "      <td>0.421300</td>\n",
       "    </tr>\n",
       "    <tr>\n",
       "      <th>제주특별자치도</th>\n",
       "      <td>0.711300</td>\n",
       "      <td>0.253700</td>\n",
       "    </tr>\n",
       "    <tr>\n",
       "      <th>충청남도</th>\n",
       "      <td>0.553100</td>\n",
       "      <td>0.347433</td>\n",
       "    </tr>\n",
       "    <tr>\n",
       "      <th>충청북도</th>\n",
       "      <td>0.410100</td>\n",
       "      <td>0.401064</td>\n",
       "    </tr>\n",
       "  </tbody>\n",
       "</table>\n",
       "</div>"
      ],
      "text/plain": [
       "           삶의 만족도        건강\n",
       "시도                         \n",
       "강원도      0.619506  0.329506\n",
       "경기도      0.426023  0.353952\n",
       "경상남도     0.530794  0.312722\n",
       "경상북도     0.502223  0.264114\n",
       "광주광역시    0.484480  0.632300\n",
       "대구광역시    0.363988  0.482325\n",
       "대전광역시    0.407580  0.663580\n",
       "부산광역시    0.362081  0.511906\n",
       "서울특별시    0.490972  0.569532\n",
       "세종특별자치시  0.907700  0.232000\n",
       "울산광역시    0.471980  0.420040\n",
       "인천광역시    0.411480  0.339620\n",
       "전라남도     0.547709  0.424732\n",
       "전라북도     0.608193  0.421300\n",
       "제주특별자치도  0.711300  0.253700\n",
       "충청남도     0.553100  0.347433\n",
       "충청북도     0.410100  0.401064"
      ]
     },
     "execution_count": 21,
     "metadata": {},
     "output_type": "execute_result"
    }
   ],
   "source": [
    "happy_health = pd.read_excel('happy\\대한민국행복지도_건강.xlsx', engine='openpyxl')\n",
    "temp = happy_health.groupby('시도')[['평균']].mean()\n",
    "life_merge = pd.merge(life_merge, temp.rename(columns={'평균':'건강'}), on='시도')\n",
    "life_merge"
   ]
  },
  {
   "cell_type": "code",
   "execution_count": 22,
   "metadata": {},
   "outputs": [
    {
     "data": {
      "text/plain": [
       "['대한민국행복지도_건강.xlsx',\n",
       " '대한민국행복지도_경제.xlsx',\n",
       " '대한민국행복지도_관계및사회참여.xlsx',\n",
       " '대한민국행복지도_교육.xlsx',\n",
       " '대한민국행복지도_삶의만족도.xlsx',\n",
       " '대한민국행복지도_안전.xlsx',\n",
       " '대한민국행복지도_여가.xlsx',\n",
       " '대한민국행복지도_환경.xlsx']"
      ]
     },
     "execution_count": 22,
     "metadata": {},
     "output_type": "execute_result"
    }
   ],
   "source": [
    "\n",
    "import os\n",
    "path = 'happy/'\n",
    "file_list = os.listdir(path)\n",
    "\n",
    "file_list"
   ]
  },
  {
   "cell_type": "code",
   "execution_count": null,
   "metadata": {},
   "outputs": [],
   "source": [
    "keywords = {'건강': 'happy_health','안전':'happy_safe','환경':'happy_environ','경제':'happy_econo','교육':'happy_edu','관계 및 사회참여':'happy_relation','여가':'happy_lesure'}\n",
    "\n",
    "try:\n",
    "    for i in file_list:\n",
    "        if i.endswith('.xlsx'):\n",
    "            for x,y in keywords.items():\n",
    "                if x in i:\n",
    "                    keywords[x] = pd.read_excel(path+i, engine='openpyxl')\n",
    "                    health = keywords[x].groupby('시도')[['평균']].mean()\n",
    "                    life_merge_merge=pd.merge(life_merge,health.rename(columns=))"
   ]
  },
  {
   "cell_type": "code",
   "execution_count": null,
   "metadata": {},
   "outputs": [],
   "source": [
    "happy_health= pd.read_excel('happy\\대한민국행복지도_건강.xlsx', engine='openpyxl')\n",
    "happy_safe = pd.read_excel('happy\\대한민국행복지도_안전.xlsx', engine='openpyxl')\n",
    "happy_environ = pd.read_excel('happy\\대한민국행복지도_환경.xlsx', engine='openpyxl')\n",
    "happy_econo = pd.read_excel('happy\\대한민국행복지도_경제.xlsx', engine='openpyxl')\n",
    "happy_edu = pd.read_excel('happy\\대한민국행복지도_교육.xlsx', engine='openpyxl')\n",
    "happy_relation = pd.read_excel('happy\\대한민국행복지도_관계및사회참여.xlsx', engine='openpyxl')\n",
    "happy_lesure = pd.read_excel('happy\\대한민국행복지도_여가.xlsx', engine='openpyxl')\n"
   ]
  }
 ],
 "metadata": {
  "kernelspec": {
   "display_name": "Python 3",
   "language": "python",
   "name": "python3"
  },
  "language_info": {
   "codemirror_mode": {
    "name": "ipython",
    "version": 3
   },
   "file_extension": ".py",
   "mimetype": "text/x-python",
   "name": "python",
   "nbconvert_exporter": "python",
   "pygments_lexer": "ipython3",
   "version": "3.13.1"
  }
 },
 "nbformat": 4,
 "nbformat_minor": 2
}
